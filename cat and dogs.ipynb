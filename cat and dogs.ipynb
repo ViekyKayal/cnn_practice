{
 "cells": [
  {
   "cell_type": "code",
   "execution_count": 2,
   "id": "3eb0912d",
   "metadata": {},
   "outputs": [
    {
     "name": "stdout",
     "output_type": "stream",
     "text": [
      "Requirement already satisfied: tensorflow in c:\\users\\vieky\\anaconda3\\lib\\site-packages (2.12.0)\n",
      "Requirement already satisfied: tensorflow-intel==2.12.0 in c:\\users\\vieky\\anaconda3\\lib\\site-packages (from tensorflow) (2.12.0)\n",
      "Requirement already satisfied: protobuf!=4.21.0,!=4.21.1,!=4.21.2,!=4.21.3,!=4.21.4,!=4.21.5,<5.0.0dev,>=3.20.3 in c:\\users\\vieky\\anaconda3\\lib\\site-packages (from tensorflow-intel==2.12.0->tensorflow) (4.23.3)\n",
      "Requirement already satisfied: numpy<1.24,>=1.22 in c:\\users\\vieky\\anaconda3\\lib\\site-packages (from tensorflow-intel==2.12.0->tensorflow) (1.22.4)\n",
      "Requirement already satisfied: gast<=0.4.0,>=0.2.1 in c:\\users\\vieky\\anaconda3\\lib\\site-packages (from tensorflow-intel==2.12.0->tensorflow) (0.4.0)\n",
      "Requirement already satisfied: termcolor>=1.1.0 in c:\\users\\vieky\\anaconda3\\lib\\site-packages (from tensorflow-intel==2.12.0->tensorflow) (2.3.0)\n",
      "Requirement already satisfied: wrapt<1.15,>=1.11.0 in c:\\users\\vieky\\anaconda3\\lib\\site-packages (from tensorflow-intel==2.12.0->tensorflow) (1.12.1)\n",
      "Requirement already satisfied: h5py>=2.9.0 in c:\\users\\vieky\\anaconda3\\lib\\site-packages (from tensorflow-intel==2.12.0->tensorflow) (3.2.1)\n",
      "Requirement already satisfied: setuptools in c:\\users\\vieky\\anaconda3\\lib\\site-packages (from tensorflow-intel==2.12.0->tensorflow) (58.0.4)\n",
      "Requirement already satisfied: astunparse>=1.6.0 in c:\\users\\vieky\\anaconda3\\lib\\site-packages (from tensorflow-intel==2.12.0->tensorflow) (1.6.3)\n",
      "Requirement already satisfied: tensorflow-io-gcs-filesystem>=0.23.1 in c:\\users\\vieky\\anaconda3\\lib\\site-packages (from tensorflow-intel==2.12.0->tensorflow) (0.31.0)\n",
      "Requirement already satisfied: jax>=0.3.15 in c:\\users\\vieky\\anaconda3\\lib\\site-packages (from tensorflow-intel==2.12.0->tensorflow) (0.4.12)\n",
      "Requirement already satisfied: keras<2.13,>=2.12.0 in c:\\users\\vieky\\anaconda3\\lib\\site-packages (from tensorflow-intel==2.12.0->tensorflow) (2.12.0)\n",
      "Requirement already satisfied: six>=1.12.0 in c:\\users\\vieky\\anaconda3\\lib\\site-packages (from tensorflow-intel==2.12.0->tensorflow) (1.16.0)\n",
      "Requirement already satisfied: opt-einsum>=2.3.2 in c:\\users\\vieky\\anaconda3\\lib\\site-packages (from tensorflow-intel==2.12.0->tensorflow) (3.3.0)\n",
      "Requirement already satisfied: flatbuffers>=2.0 in c:\\users\\vieky\\anaconda3\\lib\\site-packages (from tensorflow-intel==2.12.0->tensorflow) (23.5.26)\n",
      "Requirement already satisfied: absl-py>=1.0.0 in c:\\users\\vieky\\anaconda3\\lib\\site-packages (from tensorflow-intel==2.12.0->tensorflow) (1.4.0)\n",
      "Requirement already satisfied: packaging in c:\\users\\vieky\\anaconda3\\lib\\site-packages (from tensorflow-intel==2.12.0->tensorflow) (21.0)\n",
      "Requirement already satisfied: tensorflow-estimator<2.13,>=2.12.0 in c:\\users\\vieky\\anaconda3\\lib\\site-packages (from tensorflow-intel==2.12.0->tensorflow) (2.12.0)\n",
      "Requirement already satisfied: libclang>=13.0.0 in c:\\users\\vieky\\anaconda3\\lib\\site-packages (from tensorflow-intel==2.12.0->tensorflow) (16.0.0)\n",
      "Requirement already satisfied: typing-extensions>=3.6.6 in c:\\users\\vieky\\anaconda3\\lib\\site-packages (from tensorflow-intel==2.12.0->tensorflow) (3.10.0.2)\n",
      "Requirement already satisfied: tensorboard<2.13,>=2.12 in c:\\users\\vieky\\anaconda3\\lib\\site-packages (from tensorflow-intel==2.12.0->tensorflow) (2.12.3)\n",
      "Requirement already satisfied: grpcio<2.0,>=1.24.3 in c:\\users\\vieky\\anaconda3\\lib\\site-packages (from tensorflow-intel==2.12.0->tensorflow) (1.54.2)\n",
      "Requirement already satisfied: google-pasta>=0.1.1 in c:\\users\\vieky\\anaconda3\\lib\\site-packages (from tensorflow-intel==2.12.0->tensorflow) (0.2.0)\n",
      "Requirement already satisfied: wheel<1.0,>=0.23.0 in c:\\users\\vieky\\anaconda3\\lib\\site-packages (from astunparse>=1.6.0->tensorflow-intel==2.12.0->tensorflow) (0.37.0)\n",
      "Requirement already satisfied: importlib-metadata>=4.6 in c:\\users\\vieky\\anaconda3\\lib\\site-packages (from jax>=0.3.15->tensorflow-intel==2.12.0->tensorflow) (4.8.1)\n",
      "Requirement already satisfied: ml-dtypes>=0.1.0 in c:\\users\\vieky\\anaconda3\\lib\\site-packages (from jax>=0.3.15->tensorflow-intel==2.12.0->tensorflow) (0.2.0)\n",
      "Requirement already satisfied: scipy>=1.7 in c:\\users\\vieky\\anaconda3\\lib\\site-packages (from jax>=0.3.15->tensorflow-intel==2.12.0->tensorflow) (1.7.1)\n",
      "Requirement already satisfied: zipp>=0.5 in c:\\users\\vieky\\anaconda3\\lib\\site-packages (from importlib-metadata>=4.6->jax>=0.3.15->tensorflow-intel==2.12.0->tensorflow) (3.6.0)\n",
      "Requirement already satisfied: google-auth<3,>=1.6.3 in c:\\users\\vieky\\anaconda3\\lib\\site-packages (from tensorboard<2.13,>=2.12->tensorflow-intel==2.12.0->tensorflow) (2.20.0)\n",
      "Requirement already satisfied: tensorboard-data-server<0.8.0,>=0.7.0 in c:\\users\\vieky\\anaconda3\\lib\\site-packages (from tensorboard<2.13,>=2.12->tensorflow-intel==2.12.0->tensorflow) (0.7.1)\n",
      "Requirement already satisfied: markdown>=2.6.8 in c:\\users\\vieky\\anaconda3\\lib\\site-packages (from tensorboard<2.13,>=2.12->tensorflow-intel==2.12.0->tensorflow) (3.4.3)\n",
      "Requirement already satisfied: werkzeug>=1.0.1 in c:\\users\\vieky\\anaconda3\\lib\\site-packages (from tensorboard<2.13,>=2.12->tensorflow-intel==2.12.0->tensorflow) (2.0.2)\n",
      "Requirement already satisfied: requests<3,>=2.21.0 in c:\\users\\vieky\\anaconda3\\lib\\site-packages (from tensorboard<2.13,>=2.12->tensorflow-intel==2.12.0->tensorflow) (2.26.0)\n",
      "Requirement already satisfied: google-auth-oauthlib<1.1,>=0.5 in c:\\users\\vieky\\anaconda3\\lib\\site-packages (from tensorboard<2.13,>=2.12->tensorflow-intel==2.12.0->tensorflow) (1.0.0)\n",
      "Requirement already satisfied: cachetools<6.0,>=2.0.0 in c:\\users\\vieky\\anaconda3\\lib\\site-packages (from google-auth<3,>=1.6.3->tensorboard<2.13,>=2.12->tensorflow-intel==2.12.0->tensorflow) (5.3.1)\n",
      "Requirement already satisfied: pyasn1-modules>=0.2.1 in c:\\users\\vieky\\anaconda3\\lib\\site-packages (from google-auth<3,>=1.6.3->tensorboard<2.13,>=2.12->tensorflow-intel==2.12.0->tensorflow) (0.3.0)\n",
      "Requirement already satisfied: rsa<5,>=3.1.4 in c:\\users\\vieky\\anaconda3\\lib\\site-packages (from google-auth<3,>=1.6.3->tensorboard<2.13,>=2.12->tensorflow-intel==2.12.0->tensorflow) (4.9)\n",
      "Requirement already satisfied: urllib3<2.0 in c:\\users\\vieky\\anaconda3\\lib\\site-packages (from google-auth<3,>=1.6.3->tensorboard<2.13,>=2.12->tensorflow-intel==2.12.0->tensorflow) (1.26.7)\n",
      "Requirement already satisfied: requests-oauthlib>=0.7.0 in c:\\users\\vieky\\anaconda3\\lib\\site-packages (from google-auth-oauthlib<1.1,>=0.5->tensorboard<2.13,>=2.12->tensorflow-intel==2.12.0->tensorflow) (1.3.1)\n",
      "Requirement already satisfied: pyasn1<0.6.0,>=0.4.6 in c:\\users\\vieky\\anaconda3\\lib\\site-packages (from pyasn1-modules>=0.2.1->google-auth<3,>=1.6.3->tensorboard<2.13,>=2.12->tensorflow-intel==2.12.0->tensorflow) (0.5.0)\n",
      "Requirement already satisfied: charset-normalizer~=2.0.0 in c:\\users\\vieky\\anaconda3\\lib\\site-packages (from requests<3,>=2.21.0->tensorboard<2.13,>=2.12->tensorflow-intel==2.12.0->tensorflow) (2.0.4)\n",
      "Requirement already satisfied: idna<4,>=2.5 in c:\\users\\vieky\\anaconda3\\lib\\site-packages (from requests<3,>=2.21.0->tensorboard<2.13,>=2.12->tensorflow-intel==2.12.0->tensorflow) (3.2)\n",
      "Requirement already satisfied: certifi>=2017.4.17 in c:\\users\\vieky\\anaconda3\\lib\\site-packages (from requests<3,>=2.21.0->tensorboard<2.13,>=2.12->tensorflow-intel==2.12.0->tensorflow) (2021.10.8)\n",
      "Requirement already satisfied: oauthlib>=3.0.0 in c:\\users\\vieky\\anaconda3\\lib\\site-packages (from requests-oauthlib>=0.7.0->google-auth-oauthlib<1.1,>=0.5->tensorboard<2.13,>=2.12->tensorflow-intel==2.12.0->tensorflow) (3.2.2)\n",
      "Requirement already satisfied: pyparsing>=2.0.2 in c:\\users\\vieky\\anaconda3\\lib\\site-packages (from packaging->tensorflow-intel==2.12.0->tensorflow) (3.0.4)\n",
      "Note: you may need to restart the kernel to use updated packages.\n"
     ]
    }
   ],
   "source": [
    "pip install tensorflow"
   ]
  },
  {
   "cell_type": "code",
   "execution_count": 3,
   "id": "24a6c019",
   "metadata": {},
   "outputs": [
    {
     "name": "stdout",
     "output_type": "stream",
     "text": [
      "Requirement already satisfied: keras in c:\\users\\vieky\\anaconda3\\lib\\site-packages (2.12.0)Note: you may need to restart the kernel to use updated packages.\n",
      "\n"
     ]
    }
   ],
   "source": [
    "pip install keras\n"
   ]
  },
  {
   "cell_type": "code",
   "execution_count": 62,
   "id": "21fdc498",
   "metadata": {},
   "outputs": [],
   "source": [
    "import tensorflow as tf\n",
    "from keras.preprocessing.image import ImageDataGenerator"
   ]
  },
  {
   "cell_type": "code",
   "execution_count": 63,
   "id": "d37db081",
   "metadata": {},
   "outputs": [
    {
     "data": {
      "text/plain": [
       "'2.12.0'"
      ]
     },
     "execution_count": 63,
     "metadata": {},
     "output_type": "execute_result"
    }
   ],
   "source": [
    "tf.__version__\n"
   ]
  },
  {
   "cell_type": "code",
   "execution_count": 64,
   "id": "aab2742b",
   "metadata": {},
   "outputs": [],
   "source": [
    "#train_datagen\n",
    "td = ImageDataGenerator(rescale = 1./255,\n",
    "                                   shear_range = 0.2,\n",
    "                                   zoom_range = 0.2,\n",
    "                                   horizontal_flip = True)\n"
   ]
  },
  {
   "cell_type": "code",
   "execution_count": 65,
   "id": "f489befa",
   "metadata": {},
   "outputs": [
    {
     "name": "stdout",
     "output_type": "stream",
     "text": [
      "Found 8000 images belonging to 2 classes.\n"
     ]
    }
   ],
   "source": [
    "#training_set\n",
    "ts=td.flow_from_directory('datasets/dogs_cats/training_set',\n",
    "                                    target_size=(64,64),\n",
    "                                    batch_size=32,\n",
    "                                    class_mode='binary'\n",
    "                                    )"
   ]
  },
  {
   "cell_type": "code",
   "execution_count": 66,
   "id": "32f3f380",
   "metadata": {},
   "outputs": [
    {
     "name": "stdout",
     "output_type": "stream",
     "text": [
      "Found 2000 images belonging to 2 classes.\n"
     ]
    }
   ],
   "source": [
    "#test_set\n",
    "test=td.flow_from_directory('datasets/dogs_cats/test_set',\n",
    "                           target_size=(64,64),\n",
    "                            batch_size=32,\n",
    "                            class_mode='binary'\n",
    "                           )"
   ]
  },
  {
   "cell_type": "code",
   "execution_count": 67,
   "id": "a5e06ff1",
   "metadata": {},
   "outputs": [],
   "source": [
    "cnn=tf.keras.models.Sequential()"
   ]
  },
  {
   "cell_type": "code",
   "execution_count": 68,
   "id": "423531bf",
   "metadata": {},
   "outputs": [],
   "source": [
    "cnn.add(tf.keras.layers.Conv2D(filters=32, kernel_size=3, activation='relu',input_shape=[64,64,3]))\n",
    "cnn.add(tf.keras.layers.MaxPool2D(pool_size=2, strides=2))\n",
    "cnn.add(tf.keras.layers.Conv2D(filters=32, kernel_size=3, activation='relu'))\n",
    "cnn.add(tf.keras.layers.MaxPool2D(pool_size=2, strides=2))\n",
    "cnn.add(tf.keras.layers.Flatten())\n",
    "cnn.add(tf.keras.layers.Dense(units=128,activation='relu'))\n",
    "cnn.add(tf.keras.layers.Dense(units=1,activation='sigmoid'))\n"
   ]
  },
  {
   "cell_type": "code",
   "execution_count": 69,
   "id": "7e688492",
   "metadata": {},
   "outputs": [],
   "source": [
    "cnn.compile(optimizer = 'adam', loss = 'binary_crossentropy', metrics = ['accuracy'])"
   ]
  },
  {
   "cell_type": "code",
   "execution_count": 71,
   "id": "7d4714bb",
   "metadata": {},
   "outputs": [
    {
     "name": "stdout",
     "output_type": "stream",
     "text": [
      "Epoch 1/30\n",
      "250/250 [==============================] - 73s 293ms/step - loss: 0.3704 - accuracy: 0.8342 - val_loss: 0.4496 - val_accuracy: 0.8015\n",
      "Epoch 2/30\n",
      "250/250 [==============================] - 72s 288ms/step - loss: 0.3601 - accuracy: 0.8403 - val_loss: 0.4588 - val_accuracy: 0.7980\n",
      "Epoch 3/30\n",
      "250/250 [==============================] - 72s 288ms/step - loss: 0.3446 - accuracy: 0.8482 - val_loss: 0.4447 - val_accuracy: 0.8055\n",
      "Epoch 4/30\n",
      "250/250 [==============================] - 73s 292ms/step - loss: 0.3314 - accuracy: 0.8541 - val_loss: 0.4436 - val_accuracy: 0.8055\n",
      "Epoch 5/30\n",
      "250/250 [==============================] - 73s 291ms/step - loss: 0.3189 - accuracy: 0.8630 - val_loss: 0.4480 - val_accuracy: 0.8030\n",
      "Epoch 6/30\n",
      "250/250 [==============================] - 71s 286ms/step - loss: 0.3012 - accuracy: 0.8704 - val_loss: 0.4402 - val_accuracy: 0.8165\n",
      "Epoch 7/30\n",
      "250/250 [==============================] - 71s 285ms/step - loss: 0.2945 - accuracy: 0.8746 - val_loss: 0.4835 - val_accuracy: 0.8005\n",
      "Epoch 8/30\n",
      "250/250 [==============================] - 72s 290ms/step - loss: 0.2799 - accuracy: 0.8820 - val_loss: 0.4492 - val_accuracy: 0.7990\n",
      "Epoch 9/30\n",
      "250/250 [==============================] - 72s 287ms/step - loss: 0.2596 - accuracy: 0.8924 - val_loss: 0.4951 - val_accuracy: 0.8095\n",
      "Epoch 10/30\n",
      "250/250 [==============================] - 72s 287ms/step - loss: 0.2487 - accuracy: 0.8979 - val_loss: 0.4898 - val_accuracy: 0.8025\n",
      "Epoch 11/30\n",
      "250/250 [==============================] - 72s 290ms/step - loss: 0.2520 - accuracy: 0.8941 - val_loss: 0.4635 - val_accuracy: 0.8175\n",
      "Epoch 12/30\n",
      "250/250 [==============================] - 72s 287ms/step - loss: 0.2268 - accuracy: 0.9060 - val_loss: 0.4817 - val_accuracy: 0.8185\n",
      "Epoch 13/30\n",
      "250/250 [==============================] - 72s 289ms/step - loss: 0.2220 - accuracy: 0.9080 - val_loss: 0.5091 - val_accuracy: 0.8140\n",
      "Epoch 14/30\n",
      "250/250 [==============================] - 73s 290ms/step - loss: 0.2143 - accuracy: 0.9160 - val_loss: 0.5098 - val_accuracy: 0.8070\n",
      "Epoch 15/30\n",
      "250/250 [==============================] - 72s 288ms/step - loss: 0.2033 - accuracy: 0.9202 - val_loss: 0.5092 - val_accuracy: 0.8110\n",
      "Epoch 16/30\n",
      "250/250 [==============================] - 74s 297ms/step - loss: 0.1903 - accuracy: 0.9216 - val_loss: 0.5542 - val_accuracy: 0.7945\n",
      "Epoch 17/30\n",
      "250/250 [==============================] - 73s 290ms/step - loss: 0.1874 - accuracy: 0.9260 - val_loss: 0.5174 - val_accuracy: 0.8100\n",
      "Epoch 18/30\n",
      "250/250 [==============================] - 74s 297ms/step - loss: 0.1773 - accuracy: 0.9284 - val_loss: 0.5367 - val_accuracy: 0.8005\n",
      "Epoch 19/30\n",
      "250/250 [==============================] - 74s 297ms/step - loss: 0.1688 - accuracy: 0.9314 - val_loss: 0.5733 - val_accuracy: 0.8125\n",
      "Epoch 20/30\n",
      "250/250 [==============================] - 73s 291ms/step - loss: 0.1582 - accuracy: 0.9383 - val_loss: 0.5590 - val_accuracy: 0.8135\n",
      "Epoch 21/30\n",
      "250/250 [==============================] - 73s 294ms/step - loss: 0.1562 - accuracy: 0.9404 - val_loss: 0.6001 - val_accuracy: 0.7970\n",
      "Epoch 22/30\n",
      "250/250 [==============================] - 74s 296ms/step - loss: 0.1459 - accuracy: 0.9438 - val_loss: 0.6015 - val_accuracy: 0.8030\n",
      "Epoch 23/30\n",
      "250/250 [==============================] - 73s 293ms/step - loss: 0.1459 - accuracy: 0.9406 - val_loss: 0.6745 - val_accuracy: 0.7975\n",
      "Epoch 24/30\n",
      "250/250 [==============================] - 73s 292ms/step - loss: 0.1262 - accuracy: 0.9513 - val_loss: 0.6814 - val_accuracy: 0.8100\n",
      "Epoch 25/30\n",
      "250/250 [==============================] - 73s 293ms/step - loss: 0.1337 - accuracy: 0.9490 - val_loss: 0.6468 - val_accuracy: 0.8090\n",
      "Epoch 26/30\n",
      "250/250 [==============================] - 73s 294ms/step - loss: 0.1290 - accuracy: 0.9494 - val_loss: 0.6454 - val_accuracy: 0.8015\n",
      "Epoch 27/30\n",
      "250/250 [==============================] - 73s 294ms/step - loss: 0.1243 - accuracy: 0.9531 - val_loss: 0.6513 - val_accuracy: 0.8120\n",
      "Epoch 28/30\n",
      "250/250 [==============================] - 73s 293ms/step - loss: 0.1156 - accuracy: 0.9539 - val_loss: 0.6389 - val_accuracy: 0.8100\n",
      "Epoch 29/30\n",
      "250/250 [==============================] - 75s 299ms/step - loss: 0.1107 - accuracy: 0.9596 - val_loss: 0.6471 - val_accuracy: 0.8180\n",
      "Epoch 30/30\n",
      "250/250 [==============================] - 73s 293ms/step - loss: 0.1060 - accuracy: 0.9610 - val_loss: 0.7301 - val_accuracy: 0.8005\n"
     ]
    },
    {
     "data": {
      "text/plain": [
       "<keras.callbacks.History at 0x178495e10a0>"
      ]
     },
     "execution_count": 71,
     "metadata": {},
     "output_type": "execute_result"
    }
   ],
   "source": [
    "cnn.fit(x=ts,validation_data=test,epochs=30)"
   ]
  },
  {
   "cell_type": "code",
   "execution_count": 72,
   "id": "1832ad64",
   "metadata": {},
   "outputs": [],
   "source": [
    "cnn.save('cat_dog_model2.h5')"
   ]
  },
  {
   "cell_type": "code",
   "execution_count": 73,
   "id": "03fba663",
   "metadata": {},
   "outputs": [
    {
     "name": "stdout",
     "output_type": "stream",
     "text": [
      "Model: \"sequential_2\"\n",
      "_________________________________________________________________\n",
      " Layer (type)                Output Shape              Param #   \n",
      "=================================================================\n",
      " conv2d_5 (Conv2D)           (None, 62, 62, 32)        896       \n",
      "                                                                 \n",
      " max_pooling2d_4 (MaxPooling  (None, 31, 31, 32)       0         \n",
      " 2D)                                                             \n",
      "                                                                 \n",
      " conv2d_6 (Conv2D)           (None, 29, 29, 32)        9248      \n",
      "                                                                 \n",
      " max_pooling2d_5 (MaxPooling  (None, 14, 14, 32)       0         \n",
      " 2D)                                                             \n",
      "                                                                 \n",
      " flatten_2 (Flatten)         (None, 6272)              0         \n",
      "                                                                 \n",
      " dense_4 (Dense)             (None, 128)               802944    \n",
      "                                                                 \n",
      " dense_5 (Dense)             (None, 1)                 129       \n",
      "                                                                 \n",
      "=================================================================\n",
      "Total params: 813,217\n",
      "Trainable params: 813,217\n",
      "Non-trainable params: 0\n",
      "_________________________________________________________________\n"
     ]
    }
   ],
   "source": [
    "cnn.summary()"
   ]
  },
  {
   "cell_type": "code",
   "execution_count": 50,
   "id": "abfcfa09",
   "metadata": {
    "scrolled": true
   },
   "outputs": [],
   "source": [
    "import numpy as np\n",
    "import keras.utils as image\n"
   ]
  },
  {
   "cell_type": "code",
   "execution_count": 51,
   "id": "561120ae",
   "metadata": {},
   "outputs": [],
   "source": [
    "#test_image\n",
    "ti=image.load_img('datasets/dogs_cats/single_prediction/cat_dog3.jpg', target_size = (64, 64))\n",
    "\n"
   ]
  },
  {
   "cell_type": "code",
   "execution_count": null,
   "id": "26fc237d",
   "metadata": {},
   "outputs": [],
   "source": [
    "ti=td.flow_from_directory(,target_size=(64,64))"
   ]
  },
  {
   "cell_type": "code",
   "execution_count": 58,
   "id": "0336b1c0",
   "metadata": {},
   "outputs": [
    {
     "ename": "AttributeError",
     "evalue": "'numpy.ndarray' object has no attribute 'show'",
     "output_type": "error",
     "traceback": [
      "\u001b[1;31m---------------------------------------------------------------------------\u001b[0m",
      "\u001b[1;31mAttributeError\u001b[0m                            Traceback (most recent call last)",
      "\u001b[1;32m~\\AppData\\Local\\Temp/ipykernel_12020/3801843268.py\u001b[0m in \u001b[0;36m<module>\u001b[1;34m\u001b[0m\n\u001b[1;32m----> 1\u001b[1;33m \u001b[0mti\u001b[0m\u001b[1;33m.\u001b[0m\u001b[0mshow\u001b[0m\u001b[1;33m(\u001b[0m\u001b[1;33m)\u001b[0m\u001b[1;33m\u001b[0m\u001b[1;33m\u001b[0m\u001b[0m\n\u001b[0m",
      "\u001b[1;31mAttributeError\u001b[0m: 'numpy.ndarray' object has no attribute 'show'"
     ]
    }
   ],
   "source": [
    "ti.show()"
   ]
  },
  {
   "cell_type": "code",
   "execution_count": 52,
   "id": "19ba5b00",
   "metadata": {},
   "outputs": [
    {
     "name": "stdout",
     "output_type": "stream",
     "text": [
      "1/1 [==============================] - 0s 31ms/step\n"
     ]
    }
   ],
   "source": [
    "ti=image.img_to_array(ti)\n",
    "ti=np.expand_dims(ti,axis=0)\n",
    "result=cnn.predict(ti)\n",
    "#training set\n",
    "ts.class_indices\n",
    "if result[0][0]:\n",
    "    prediction='dog'\n",
    "else:\n",
    "    prdiction='cat'"
   ]
  },
  {
   "cell_type": "code",
   "execution_count": 57,
   "id": "3ddeef88",
   "metadata": {},
   "outputs": [
    {
     "data": {
      "text/plain": [
       "0.0"
      ]
     },
     "execution_count": 57,
     "metadata": {},
     "output_type": "execute_result"
    }
   ],
   "source": [
    "result[0][0]\n"
   ]
  },
  {
   "cell_type": "code",
   "execution_count": 49,
   "id": "035945e9",
   "metadata": {},
   "outputs": [
    {
     "name": "stdout",
     "output_type": "stream",
     "text": [
      "dog\n"
     ]
    }
   ],
   "source": [
    "print(prediction)"
   ]
  },
  {
   "cell_type": "code",
   "execution_count": 44,
   "id": "7c30fd96",
   "metadata": {},
   "outputs": [
    {
     "ename": "AttributeError",
     "evalue": "module 'keras.preprocessing.image' has no attribute 'load_img'",
     "output_type": "error",
     "traceback": [
      "\u001b[1;31m---------------------------------------------------------------------------\u001b[0m",
      "\u001b[1;31mAttributeError\u001b[0m                            Traceback (most recent call last)",
      "\u001b[1;32m~\\AppData\\Local\\Temp/ipykernel_12020/3951450877.py\u001b[0m in \u001b[0;36m<module>\u001b[1;34m\u001b[0m\n\u001b[0;32m      1\u001b[0m \u001b[1;32mimport\u001b[0m \u001b[0mnumpy\u001b[0m \u001b[1;32mas\u001b[0m \u001b[0mnp\u001b[0m\u001b[1;33m\u001b[0m\u001b[1;33m\u001b[0m\u001b[0m\n\u001b[0;32m      2\u001b[0m \u001b[1;32mfrom\u001b[0m \u001b[0mkeras\u001b[0m\u001b[1;33m.\u001b[0m\u001b[0mpreprocessing\u001b[0m \u001b[1;32mimport\u001b[0m \u001b[0mimage\u001b[0m\u001b[1;33m\u001b[0m\u001b[1;33m\u001b[0m\u001b[0m\n\u001b[1;32m----> 3\u001b[1;33m \u001b[0mtest_image\u001b[0m \u001b[1;33m=\u001b[0m \u001b[0mimage\u001b[0m\u001b[1;33m.\u001b[0m\u001b[0mload_img\u001b[0m\u001b[1;33m(\u001b[0m\u001b[1;34m'datasets/dogs_cats/single_prediction/cat_dog6.jpg'\u001b[0m\u001b[1;33m,\u001b[0m \u001b[0mtarget_size\u001b[0m \u001b[1;33m=\u001b[0m \u001b[1;33m(\u001b[0m\u001b[1;36m64\u001b[0m\u001b[1;33m,\u001b[0m \u001b[1;36m64\u001b[0m\u001b[1;33m)\u001b[0m\u001b[1;33m)\u001b[0m\u001b[1;33m\u001b[0m\u001b[1;33m\u001b[0m\u001b[0m\n\u001b[0m\u001b[0;32m      4\u001b[0m \u001b[0mtest_image\u001b[0m \u001b[1;33m=\u001b[0m \u001b[0mimage\u001b[0m\u001b[1;33m.\u001b[0m\u001b[0mimg_to_array\u001b[0m\u001b[1;33m(\u001b[0m\u001b[0mtest_image\u001b[0m\u001b[1;33m)\u001b[0m\u001b[1;33m\u001b[0m\u001b[1;33m\u001b[0m\u001b[0m\n\u001b[0;32m      5\u001b[0m \u001b[0mtest_image\u001b[0m \u001b[1;33m=\u001b[0m \u001b[0mnp\u001b[0m\u001b[1;33m.\u001b[0m\u001b[0mexpand_dims\u001b[0m\u001b[1;33m(\u001b[0m\u001b[0mtest_image\u001b[0m\u001b[1;33m,\u001b[0m \u001b[0maxis\u001b[0m \u001b[1;33m=\u001b[0m \u001b[1;36m0\u001b[0m\u001b[1;33m)\u001b[0m\u001b[1;33m\u001b[0m\u001b[1;33m\u001b[0m\u001b[0m\n",
      "\u001b[1;31mAttributeError\u001b[0m: module 'keras.preprocessing.image' has no attribute 'load_img'"
     ]
    }
   ],
   "source": [
    "import numpy as np\n",
    "from keras.preprocessing import image\n",
    "test_image = image.load_img('datasets/dogs_cats/single_prediction/cat_dog6.jpg', target_size = (64, 64))\n",
    "test_image = image.img_to_array(test_image)\n",
    "test_image = np.expand_dims(test_image, axis = 0)\n",
    "result = cnn.predict(test_image)\n",
    "training_set.class_indices\n",
    "if result[0][0] == 1:\n",
    "  prediction = 'dog'\n",
    "else:\n",
    "  prediction = 'cat'"
   ]
  },
  {
   "cell_type": "code",
   "execution_count": null,
   "id": "572e5941",
   "metadata": {},
   "outputs": [],
   "source": []
  }
 ],
 "metadata": {
  "kernelspec": {
   "display_name": "Python 3 (ipykernel)",
   "language": "python",
   "name": "python3"
  },
  "language_info": {
   "codemirror_mode": {
    "name": "ipython",
    "version": 3
   },
   "file_extension": ".py",
   "mimetype": "text/x-python",
   "name": "python",
   "nbconvert_exporter": "python",
   "pygments_lexer": "ipython3",
   "version": "3.9.7"
  }
 },
 "nbformat": 4,
 "nbformat_minor": 5
}
